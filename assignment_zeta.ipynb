{
 "cells": [
  {
   "cell_type": "markdown",
   "metadata": {},
   "source": [
    "# Welcome to the Dark Art of Coding:\n",
    "## Introduction to Python\n",
    "Assignment zeta\n",
    "\n",
    "<img src='../images/dark_art_logo.600px.png' width='300' style=\"float:right\">"
   ]
  },
  {
   "cell_type": "markdown",
   "metadata": {},
   "source": [
    "# Prerequisites\n",
    "---"
   ]
  },
  {
   "cell_type": "markdown",
   "metadata": {},
   "source": [
    "These tasks should be doable with a reasonable understanding of the following skills/knowledge:\n",
    "    \n",
    "* `pandas.merge()`\n",
    "* `pandas.read_csv()`\n",
    "* assorted `DataFrame` methods() and attributes\n"
   ]
  },
  {
   "cell_type": "markdown",
   "metadata": {},
   "source": [
    "# what weight we carry\n",
    "---"
   ]
  },
  {
   "cell_type": "markdown",
   "metadata": {},
   "source": [
    "For this problem, you need to examine the contents of two separate csv files:\n",
    "\n",
    "* `AMEX_daily_prices_N.csv`\n",
    "* `AMEX_dividends_N.csv`\n",
    "\n",
    "\n",
    "1. Read the data from each file into separate pandas DataFrames using the `.read_csv()` method\n",
    "1. Display to the screen the first `7` rows of each DataFrame\n",
    "1. Merge the data from each DataFrame into a single DataFrame according to these guidelines:\n",
    "    * merge on the stock_symbol column, as the key\n",
    "    * merge using an inner join\n",
    "1. Identify any stocks with a **Dividend Date** (NOT a Daily Price Date) of `1991-06-24`\n",
    "1. Display to the screen the unique symbol(s) for stocks with that date."
   ]
  },
  {
   "cell_type": "markdown",
   "metadata": {},
   "source": [
    "# Submission:\n",
    "---"
   ]
  },
  {
   "cell_type": "markdown",
   "metadata": {
    "collapsed": true
   },
   "source": [
    "Email me your script, when you are complete."
   ]
  },
  {
   "cell_type": "code",
   "execution_count": null,
   "metadata": {
    "collapsed": true
   },
   "outputs": [],
   "source": []
  }
 ],
 "metadata": {
  "kernelspec": {
   "display_name": "Python 3",
   "language": "python",
   "name": "python3"
  },
  "language_info": {
   "codemirror_mode": {
    "name": "ipython",
    "version": 3
   },
   "file_extension": ".py",
   "mimetype": "text/x-python",
   "name": "python",
   "nbconvert_exporter": "python",
   "pygments_lexer": "ipython3",
   "version": "3.6.1"
  }
 },
 "nbformat": 4,
 "nbformat_minor": 2
}
