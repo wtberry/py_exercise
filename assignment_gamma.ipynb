{
 "cells": [
  {
   "cell_type": "markdown",
   "metadata": {},
   "source": [
    "# Welcome to the Dark Art of Coding:\n",
    "## Introduction to Python\n",
    "Assignment gamma\n",
    "\n",
    "<img src='../images/dark_art_logo.600px.png' width='300' style=\"float:right\">"
   ]
  },
  {
   "cell_type": "markdown",
   "metadata": {},
   "source": [
    "# Prerequisites\n",
    "---"
   ]
  },
  {
   "cell_type": "markdown",
   "metadata": {},
   "source": [
    "These tasks should be doable with a reasonable understanding of the following skills/knowledge:\n",
    "    \n",
    "* opening and reading files\n",
    "* read from csv files\n",
    "* lists >>> methods, slicing\n",
    "* strings\n",
    "* sets\n",
    "* range()"
   ]
  },
  {
   "cell_type": "markdown",
   "metadata": {},
   "source": [
    "# window of truth\n",
    "---"
   ]
  },
  {
   "cell_type": "markdown",
   "metadata": {},
   "source": [
    "For this problem, you need to examine a file full of stock data to find just those stocks whose **opening price** fell between:\n",
    "* 30 and 420 (exclusive) \n",
    "\n",
    "AND whose **closing price** fell between:\n",
    "* 32 and 422 (exclusive) \n",
    "\n",
    "at some point during the time recorded in the records.\n",
    "\n",
    "For example, if you have this data about two stocks:\n",
    "```\n",
    "stock,open,close\n",
    "NVY,100,101    # between both sets of bounds\n",
    "NXT,300,301    # between both sets of bounds\n",
    "NVH,35,423     # closing price is out of bounds\n",
    "NVY,31,500     # closing price is out of bounds\n",
    "NXT,12,400     # opening price is out of bounds\n",
    "NVH,419,422    # closing price is out of bounds\n",
    "\n",
    "-------------------\n",
    "NVY had one record where the prices fell within the window.\n",
    "NXT had one record where the prices fell within the window.\n",
    "NVH on the other hand, NEVER had a record whose prices fell in the window.\n",
    "```\n",
    "\n",
    "Sort the names of the stocks who had at least one record that fell between the correct windows and write that data to a file as a csv, with all records on a single line:\n",
    "\n",
    "```bash\n",
    "NVY,NXT,ABC,DEF,GHI\n",
    "```\n",
    "\n",
    "**Expert Challenge**:\n",
    "\n",
    "Sort the names of the stocks as above, but instead of writing all the data to a single line, write the data across multiple lines, with two stocks per line.\n",
    "\n",
    "For example, if the results were: `['ABC', 'DEF', 'GHI', 'HIJ', 'KLM', 'NOP']`\n",
    "\n",
    "Your result would look like this:\n",
    "```bash\n",
    "ABC,DEF\n",
    "GHI,HIJ\n",
    "KLM,NOP\n",
    "```"
   ]
  },
  {
   "cell_type": "markdown",
   "metadata": {},
   "source": [
    "# Submission:\n",
    "---"
   ]
  },
  {
   "cell_type": "markdown",
   "metadata": {
    "collapsed": true
   },
   "source": [
    "Email me your script, when you are complete."
   ]
  }
 ],
 "metadata": {
  "kernelspec": {
   "display_name": "Python 3",
   "language": "python",
   "name": "python3"
  },
  "language_info": {
   "codemirror_mode": {
    "name": "ipython",
    "version": 3
   },
   "file_extension": ".py",
   "mimetype": "text/x-python",
   "name": "python",
   "nbconvert_exporter": "python",
   "pygments_lexer": "ipython3",
   "version": "3.6.1"
  }
 },
 "nbformat": 4,
 "nbformat_minor": 2
}
