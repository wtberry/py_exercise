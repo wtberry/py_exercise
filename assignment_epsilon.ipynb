{
 "cells": [
  {
   "cell_type": "markdown",
   "metadata": {},
   "source": [
    "# Welcome to the Dark Art of Coding:\n",
    "## Introduction to Python\n",
    "Assignment epsilon\n",
    "\n",
    "<img src='../images/dark_art_logo.600px.png' width='300' style=\"float:right\">"
   ]
  },
  {
   "cell_type": "markdown",
   "metadata": {},
   "source": [
    "# Prerequisites\n",
    "---"
   ]
  },
  {
   "cell_type": "markdown",
   "metadata": {},
   "source": [
    "These tasks should be doable with a reasonable understanding of the following skills/knowledge:\n",
    "    \n",
    "* pandas.read_sql()\n",
    "* sqlite3\n",
    "* basic SQL syntax\n",
    "* assorted DataFrame methods() and attributes\n"
   ]
  },
  {
   "cell_type": "markdown",
   "metadata": {},
   "source": [
    "# what weight we carry\n",
    "---"
   ]
  },
  {
   "cell_type": "markdown",
   "metadata": {},
   "source": [
    "For this problem, you need to examine a `sql` database full of log data.\n",
    "\n",
    "1. Connect to the sql database: `log_file.sql`\n",
    "1. Read the data into pandas using the `.read_sql()` method AND the appropriate SQL syntax to select the following from the `superheroes` table:\n",
    "    * extract only the `name`, the `payload` and the `datetime` columns\n",
    "    * select only rows where the `payload` is greater than `486000` and less than `489500`\n",
    "1. `print()` the minimum selected `payload`\n",
    "1. `print()` the maximum selected `payload`\n",
    "1. `print()` the median selected `payload`\n",
    "1. `print()` all the `payload` values that were selected\n",
    "1. `print()` the details that are displayed by the `.info()` method associated with DataFrames"
   ]
  },
  {
   "cell_type": "markdown",
   "metadata": {},
   "source": [
    "# Submission:\n",
    "---"
   ]
  },
  {
   "cell_type": "markdown",
   "metadata": {
    "collapsed": true
   },
   "source": [
    "Email me your script, when you are complete."
   ]
  },
  {
   "cell_type": "code",
   "execution_count": null,
   "metadata": {
    "collapsed": true
   },
   "outputs": [],
   "source": []
  }
 ],
 "metadata": {
  "kernelspec": {
   "display_name": "Python 3",
   "language": "python",
   "name": "python3"
  },
  "language_info": {
   "codemirror_mode": {
    "name": "ipython",
    "version": 3
   },
   "file_extension": ".py",
   "mimetype": "text/x-python",
   "name": "python",
   "nbconvert_exporter": "python",
   "pygments_lexer": "ipython3",
   "version": "3.6.1"
  }
 },
 "nbformat": 4,
 "nbformat_minor": 2
}
