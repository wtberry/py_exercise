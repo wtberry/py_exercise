{
 "cells": [
  {
   "cell_type": "markdown",
   "metadata": {},
   "source": [
    "# Welcome to the Dark Art of Coding:\n",
    "## Introduction to Python\n",
    "Assignment delta\n",
    "\n",
    "<img src='../images/dark_art_logo.600px.png' width='300' style=\"float:right\">"
   ]
  },
  {
   "cell_type": "markdown",
   "metadata": {},
   "source": [
    "# Prerequisites\n",
    "---"
   ]
  },
  {
   "cell_type": "markdown",
   "metadata": {},
   "source": [
    "These tasks should be doable with a reasonable understanding of the following skills/knowledge:\n",
    "    \n",
    "* pandas.read_csv()\n",
    "* Assorted DataFrame methods() and attributes\n",
    "* for loops"
   ]
  },
  {
   "cell_type": "markdown",
   "metadata": {},
   "source": [
    "# to and fro\n",
    "---"
   ]
  },
  {
   "cell_type": "markdown",
   "metadata": {},
   "source": [
    "For this problem, you need to examine a `csv` file full log data.\n",
    "\n",
    "1. Read the file: `log_file_1000.csv` into pandas.\n",
    "1. Assign the following names to the columns, in this order:<br><br>\n",
    "\n",
    "```\n",
    "name\n",
    "email\n",
    "fmip\n",
    "toip\n",
    "datetime\n",
    "lat\n",
    "long\n",
    "payload_size\n",
    "```\n",
    "<br><br>\n",
    "1. `print()` to the screen how many rows in the data have an `fmip` that matches the corresponding `toip` in that row. For example if we consider a simplified dataset:<br/>\n",
    "    * `bruce wayne,123.123.123.100,123.123.123.100` **<< the ips match**\n",
    "    * `selina kyle,23.23.23.200,23.23.23.0` **<< the ips do NOT match**\n",
    "    * `barbara gordon,12.12.12.0,12.12.12.200` **<< the ips do NOT match**\n",
    "    * `barbara gordon,12.12.12.0,12.12.12.0` **<< the ips match**<br/><br/>\n",
    "1. `print()` to the screen how many unique values are stored in the `payload` column.\n",
    "1. Calculate the value counts for the values in the `fmip` column. i.e. count how many times each of the `fmip`s appears in that column. (NOTE: in the below items, you don't need to display ip, just the counts).\n",
    "    1. `print()` the highest count to the screen \n",
    "    1. `print()` the lowest count to the screen \n",
    "1. `print()` the names of the columns to the screen, but print one column name per line. "
   ]
  },
  {
   "cell_type": "markdown",
   "metadata": {},
   "source": [
    "# Submission:\n",
    "---"
   ]
  },
  {
   "cell_type": "markdown",
   "metadata": {
    "collapsed": true
   },
   "source": [
    "Email me your script, when you are complete."
   ]
  }
 ],
 "metadata": {
  "kernelspec": {
   "display_name": "Python 3",
   "language": "python",
   "name": "python3"
  },
  "language_info": {
   "codemirror_mode": {
    "name": "ipython",
    "version": 3
   },
   "file_extension": ".py",
   "mimetype": "text/x-python",
   "name": "python",
   "nbconvert_exporter": "python",
   "pygments_lexer": "ipython3",
   "version": "3.6.1"
  }
 },
 "nbformat": 4,
 "nbformat_minor": 2
}
