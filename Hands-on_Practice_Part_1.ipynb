{
 "cells": [
  {
   "cell_type": "markdown",
   "metadata": {},
   "source": [
    "# Welcome to the Dark Art of Coding:\n",
    "## Introduction to Python\n",
    "Hands-on Practice, Part 1\n",
    "\n",
    "<img src='../images/dark_art_logo.600px.png' width='300' style=\"float:right\">"
   ]
  },
  {
   "cell_type": "markdown",
   "metadata": {},
   "source": [
    "# Prerequisites\n",
    "---"
   ]
  },
  {
   "cell_type": "markdown",
   "metadata": {},
   "source": [
    "These tasks should be doable with a reasonable understanding of the following skills/knowledge:\n",
    "    \n",
    "* opening and reading files\n",
    "* lists\n",
    "* strings\n",
    "* dictionaries\n",
    "* regex\n"
   ]
  },
  {
   "cell_type": "markdown",
   "metadata": {},
   "source": [
    "# scrabble\n",
    "---"
   ]
  },
  {
   "cell_type": "markdown",
   "metadata": {},
   "source": [
    "There are two files with Scrabble words in the folder with this Hands-on Practical exercise:\n",
    "    \n",
    "* *113809of.fic*\n",
    "* *113809of.rev.2.fic*"
   ]
  },
  {
   "cell_type": "markdown",
   "metadata": {},
   "source": [
    "Your task is explore the data and answer questions. Some sample questions include:"
   ]
  },
  {
   "cell_type": "markdown",
   "metadata": {},
   "source": [
    "## scrabble project zero\n",
    "* File *113809of.fic* and *113809of.rev.2.fic* are different lengths, i.e. contain different numbers of words. \n",
    "   1. Which file has the extra words? \n",
    "   1. What are the extra words?"
   ]
  },
  {
   "cell_type": "markdown",
   "metadata": {},
   "source": [
    "## scrabble project one\n",
    "\n",
    "* Using *file 113809of.fic*\n",
    "   1. identify how many words start with an 'x'"
   ]
  },
  {
   "cell_type": "markdown",
   "metadata": {},
   "source": [
    "## scrabble project two   \n",
    "\n",
    "* Using *file 113809of.fic* identify how many words have: \n",
    "    1. two or more vowels\n",
    "    1. three or more vowels\n",
    "    1. four or more vowels\n",
    "    1. five or more vowels\n",
    "    1. the most vowels\n",
    "    1. no vowels"
   ]
  },
  {
   "cell_type": "markdown",
   "metadata": {},
   "source": [
    "## scrabble project three\n",
    "\n",
    "* Using *file 113809of.fic* identify how many words have:\n",
    "   * a consonant-vowel pattern\n",
    "      * for any number of consonants and vowels (i.e. cv OR cvcv OR cvcvcv OR cvcvcvcv, etc)\n",
    "      * identify the longest such word(s)"
   ]
  },
  {
   "cell_type": "markdown",
   "metadata": {},
   "source": [
    "## scrabble project four\n",
    "\n",
    "* Using *file 113809of.fic* identify the count of letters in the words:\n",
    "    * which three letters appear most/least frequently\n",
    "    * which which letter occurs most frequently as a double (i.e. 'ee', 'oo', etc)"
   ]
  },
  {
   "cell_type": "markdown",
   "metadata": {},
   "source": [
    "# cash\n",
    "---"
   ]
  },
  {
   "cell_type": "markdown",
   "metadata": {},
   "source": [
    "Questions related to these datasets will be posted soon."
   ]
  },
  {
   "cell_type": "markdown",
   "metadata": {},
   "source": [
    "# old and scary\n",
    "---"
   ]
  },
  {
   "cell_type": "markdown",
   "metadata": {},
   "source": [
    "Questions related to these datasets will be posted soon."
   ]
  }
 ],
 "metadata": {
  "kernelspec": {
   "display_name": "Python 3",
   "language": "python",
   "name": "python3"
  },
  "language_info": {
   "codemirror_mode": {
    "name": "ipython",
    "version": 3
   },
   "file_extension": ".py",
   "mimetype": "text/x-python",
   "name": "python",
   "nbconvert_exporter": "python",
   "pygments_lexer": "ipython3",
   "version": "3.6.1"
  }
 },
 "nbformat": 4,
 "nbformat_minor": 2
}
