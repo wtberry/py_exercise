{
 "cells": [
  {
   "cell_type": "markdown",
   "metadata": {},
   "source": [
    "# Welcome to the Dark Art of Coding:\n",
    "## Introduction to Python\n",
    "Assignment beta\n",
    "\n",
    "<img src='../images/dark_art_logo.600px.png' width='300' style=\"float:right\">"
   ]
  },
  {
   "cell_type": "markdown",
   "metadata": {},
   "source": [
    "# Prerequisites\n",
    "---"
   ]
  },
  {
   "cell_type": "markdown",
   "metadata": {},
   "source": [
    "These tasks should be doable with a reasonable understanding of the following skills/knowledge:\n",
    "    \n",
    "* opening and reading files\n",
    "* read from csv files\n",
    "* lists\n",
    "* strings\n",
    "* dictionaries"
   ]
  },
  {
   "cell_type": "markdown",
   "metadata": {},
   "source": [
    "# poor performers\n",
    "---"
   ]
  },
  {
   "cell_type": "markdown",
   "metadata": {},
   "source": [
    "For this problem, you need to examine a file full of stock data to find just those stocks whose overall change between their opening price and their closing price over the course of time is less than 40.\n",
    "\n",
    "For example, if you have this data about two stocks:\n",
    "```\n",
    "stock,open,close\n",
    "NVY,10,20     >  10\n",
    "NVY,21,11     > -10\n",
    "NVY,12,22     >  10\n",
    "-------------------\n",
    "TOTAL:        >  10 \n",
    "```\n",
    "\n",
    "\n",
    "```\n",
    "NXT,20,9      > -11\n",
    "NXT,21,10     > -11\n",
    "NXT,22,1      > -21\n",
    "-------------------\n",
    "TOTAL:        > -43\n",
    "```\n",
    "\n",
    "We see that the sum of all the differences between the closing and opening prices is 10 for the NVY stock\n",
    "We also see that sum of all differences between the two prices is -43 for the NXT stock.\n",
    "\n",
    "When you identify a stock whose sum of all differences is less than -40, print the name of the stock and the sum of the differences, one stock per line:\n",
    "\n",
    "```\n",
    "NXT -43\n",
    "ABC -42.006\n",
    "CDE -45.2324\n",
    "```"
   ]
  },
  {
   "cell_type": "markdown",
   "metadata": {},
   "source": [
    "1. Open the file `AMEX_daily_prices_N.csv`\n",
    "1. From each line, read in the opening and closing price\n",
    "1. Calculate the difference between the closing and opening prices: i.e. closing price minus opening price\n",
    "1. For each stock, calculate the total (sum) of all the differences associated with that stock\n",
    "1. For each stock, determine which sums are less than -40\n",
    "1. Print the name of the stock and the difference, one stock per line\n"
   ]
  },
  {
   "cell_type": "markdown",
   "metadata": {},
   "source": [
    "# Submission:\n",
    "---"
   ]
  },
  {
   "cell_type": "markdown",
   "metadata": {
    "collapsed": true
   },
   "source": [
    "Email me your script, when you are complete."
   ]
  }
 ],
 "metadata": {
  "kernelspec": {
   "display_name": "Python 3",
   "language": "python",
   "name": "python3"
  },
  "language_info": {
   "codemirror_mode": {
    "name": "ipython",
    "version": 3
   },
   "file_extension": ".py",
   "mimetype": "text/x-python",
   "name": "python",
   "nbconvert_exporter": "python",
   "pygments_lexer": "ipython3",
   "version": "3.6.1"
  }
 },
 "nbformat": 4,
 "nbformat_minor": 2
}
